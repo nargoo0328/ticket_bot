{
 "cells": [
  {
   "cell_type": "code",
   "execution_count": null,
   "metadata": {},
   "outputs": [],
   "source": [
    "from bot import ticket_bot\n",
    "from selenium.webdriver.edge.options import Options\n",
    "options = Options()\n",
    "login = None\n",
    "bot = ticket_bot(options,ticket_num=2,website='kktix',cuda=True,login=login)\n",
    "# paste kktix concert page with data or tixcraft concert page\n",
    "bot.get_page('https://kktix.com/events/oor20230916/registrations/new') \n"
   ]
  },
  {
   "cell_type": "code",
   "execution_count": null,
   "metadata": {},
   "outputs": [],
   "source": [
    "bot.run(price=4800)"
   ]
  }
 ],
 "metadata": {
  "language_info": {
   "name": "python"
  },
  "orig_nbformat": 4
 },
 "nbformat": 4,
 "nbformat_minor": 2
}
