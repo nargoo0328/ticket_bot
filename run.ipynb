{
 "cells": [
  {
   "attachments": {},
   "cell_type": "markdown",
   "metadata": {},
   "source": [
    "# Import bot and set browser options."
   ]
  },
  {
   "cell_type": "code",
   "execution_count": null,
   "metadata": {},
   "outputs": [],
   "source": [
    "from bot import ticket_bot\n",
    "from selenium.webdriver.edge.options import Options\n",
    "options = Options()"
   ]
  },
  {
   "attachments": {},
   "cell_type": "markdown",
   "metadata": {},
   "source": [
    "# Run the browser\n",
    "## ticket_bot args:\n",
    "    options: web browser options\n",
    "    website: tixcraft or kktix\n",
    "    ticket_num: Number of tickets you want to buy\n",
    "    login: if you are loginning manually, pass None else pass: List[str{account},str{password}]\n",
    "            Note: automatically login function only supports kktix. \n",
    "    cuda: Using gpu for captcha model.\n",
    "## get_page:\n",
    "    paste concert page here"
   ]
  },
  {
   "cell_type": "code",
   "execution_count": null,
   "metadata": {},
   "outputs": [],
   "source": [
    "login = None\n",
    "bot = ticket_bot(options,ticket_num=2,website='kktix',cuda=True,login=login)\n",
    "# paste kktix concert page with date or tixcraft concert page\n",
    "bot.get_page('https://kktix.com/events/oor20230916/registrations/new') "
   ]
  },
  {
   "attachments": {},
   "cell_type": "markdown",
   "metadata": {},
   "source": [
    "# Start buying tickets\n",
    "## ticket_bot.run args:\n",
    "    date: The date of the concert. Tixcraft only\n",
    "    price: Target price of the ticket.\n",
    "    seat_choice: Target region of the ticket."
   ]
  },
  {
   "cell_type": "code",
   "execution_count": null,
   "metadata": {},
   "outputs": [],
   "source": [
    "bot.run(date=None,seat_choice=None,price=4800)"
   ]
  }
 ],
 "metadata": {
  "language_info": {
   "name": "python"
  },
  "orig_nbformat": 4
 },
 "nbformat": 4,
 "nbformat_minor": 2
}
