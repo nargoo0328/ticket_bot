{
 "cells": [
  {
   "attachments": {},
   "cell_type": "markdown",
   "metadata": {},
   "source": [
    "## Import bot and set browser options."
   ]
  },
  {
   "cell_type": "code",
   "execution_count": null,
   "metadata": {},
   "outputs": [],
   "source": [
    "from bot import ticket_bot\n",
    "from selenium.webdriver.edge.options import Options\n",
    "options = Options()\n",
    "user_agent = \"Mozilla/5.0 (Windows NT 10.0; Win64; x64) AppleWebKit/537.36 (KHTML, like Gecko) Chrome/119.0.0.0 Safari/537.36 Edg/119.0.2151.97\"\n",
    "options.add_argument(f\"--user-agent={user_agent}\")\n",
    "options.add_argument(\"--disable-extensions\")"
   ]
  },
  {
   "attachments": {},
   "cell_type": "markdown",
   "metadata": {},
   "source": [
    "## Run the browser\n",
    "### ticket_bot args:\n",
    "    options: web browser options\n",
    "    website: tixcraft or kktix\n",
    "    ticket_num: Number of tickets you want to buy\n",
    "    login: if you are loginning manually, pass None else pass: List[str{account},str{password}]\n",
    "            Note: automatically login function only supports kktix. \n",
    "    cuda: Using gpu for captcha model.\n",
    "### get_page:\n",
    "    paste concert page here"
   ]
  },
  {
   "cell_type": "code",
   "execution_count": null,
   "metadata": {},
   "outputs": [],
   "source": [
    "login = None\n",
    "bot = ticket_bot(options,ticket_num=1,website='tixcraft',cuda=False,login=login)\n",
    "page = 'https://tixcraft.com/activity/detail/23_abc30'\n",
    "bot.get_page(page) # https://kktix.com/events/suiyoubi04/registrations/new\n",
    "SID = None # ''\n",
    "bot.login(SID)"
   ]
  },
  {
   "attachments": {},
   "cell_type": "markdown",
   "metadata": {},
   "source": [
    "## Start buying tickets\n",
    "### ticket_bot.run args:\n",
    "    date: The date of the concert. Tixcraft only\n",
    "    price: Target price of the ticket.\n",
    "    seat_choice: Target region of the ticket."
   ]
  },
  {
   "cell_type": "code",
   "execution_count": null,
   "metadata": {},
   "outputs": [],
   "source": [
    "seat_choice = [\"114區\"]\n",
    "bot.run(date='2023/12/05 (二) 18:30',seat_choice=seat_choice,price='200') # 07/04"
   ]
  }
 ],
 "metadata": {
  "language_info": {
   "name": "python"
  },
  "orig_nbformat": 4
 },
 "nbformat": 4,
 "nbformat_minor": 2
}
